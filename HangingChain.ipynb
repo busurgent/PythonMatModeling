{
 "cells": [
  {
   "cell_type": "code",
   "execution_count": 53,
   "id": "e566cbdb",
   "metadata": {},
   "outputs": [
    {
     "data": {
      "text/plain": [
       "[<matplotlib.lines.Line2D at 0x21a442ed1f0>]"
      ]
     },
     "execution_count": 53,
     "metadata": {},
     "output_type": "execute_result"
    },
    {
     "data": {
      "image/png": "[encoded data removed]",
      "text/plain": [
       "<Figure size 432x288 with 1 Axes>"
      ]
     },
     "metadata": {
      "needs_background": "light"
     },
     "output_type": "display_data"
    }
   ],
   "source": [
    "from numpy import zeros, linspace, dot, array,real, meshgrid, pi,append\n",
    "import matplotlib.pyplot as plt\n",
    "import sympy as sp\n",
    "from numpy import linalg as LA\n",
    "from IPython import get_ipython\n",
    "\n",
    "\n",
    "n = 13\n",
    "h = 0.001\n",
    "l_01 = 1\n",
    "l_12 = 1\n",
    "l_23 = 1\n",
    "l_34 = 1\n",
    "l_45 = 1\n",
    "m1 = 1\n",
    "m2 = 1\n",
    "m3 = 1\n",
    "m4 = 1\n",
    "x0 = 0\n",
    "y0 = 10 \n",
    "x5 = 4\n",
    "y5 = 10\n",
    "\n",
    "def S_01(X1):\n",
    "    return (x0-X1[0])**2+(y0-X1[1])**2-l_01**2\n",
    "\n",
    "def S_12(X1,X2):\n",
    "    return (X1[0]-X2[0])**2+(X1[1]-X2[1])**2-l_12**2\n",
    "\n",
    "def S_23(X2,X3):\n",
    "    return (X2[0]-X3[0])**2+(X2[1]-X3[1])**2-l_23**2\n",
    "\n",
    "def S_34(X3,X4):\n",
    "    return (X3[0]-X4[0])**2+(X3[1]-X4[1])**2-l_34**2\n",
    "\n",
    "def S_45(X4):\n",
    "    return (X4[0]-x5)**2+(X4[1]-y5)**2-l_45**2\n",
    "\n",
    "def U1(Y):\n",
    "    return m1*g*Y[1]\n",
    "def U2(Y):\n",
    "    return m2*g*Y[1]\n",
    "def U3(Y):\n",
    "    return m3*g*Y[1]\n",
    "def U4(Y):\n",
    "    return m4*g*Y[1]\n",
    "\n",
    "def U(X):\n",
    "    X1=X[0:2]\n",
    "    X2=X[2:4]\n",
    "    X3=X[4:6]\n",
    "    X4=X[6:8]\n",
    "    L=X[8:13]\n",
    "    return U1(X1) + U2(X2) + U3(X3) + U4(X4) + L[0]*S_01(X1) + L[1]*S_12(X1,X2) +L[2]*S_23(X2,X3) + L[3]*S_34(X3,X4)  + L[4]*S_45(X4)\n",
    "\n",
    "def dF(X,h,i):\n",
    "    dX=zeros(n)\n",
    "    dX[i]=h\n",
    "    return (U(X + dX)- U(X - dX))/h/2\n",
    "\n",
    "def DU(X,h):\n",
    "    H=zeros((n,n))\n",
    "    for i in range(0,n):\n",
    "        for j in range(0,n):\n",
    "            dX=zeros(n)\n",
    "            dX[j]=h\n",
    "            H[i][j]=(dF(X + dX,h,i) - dF(X - dX,h,i))/2/h\n",
    "    return H\n",
    "m=80\n",
    "Vf=zeros((m,n))\n",
    "Vf[0]=[1,2,2,3,3,4,4,5,1,1,1,1,1]\n",
    "\n",
    "for i in range(1,m):\n",
    "    F=[dF(Vf[i-1],h,k) for k in range(n)]\n",
    "    Vf[i]=Vf[i-1] - 0.5*LA.inv(DU(Vf[i-1],h)).dot(F)\n",
    "\n",
    "\n",
    "\n",
    "a = zeros(6)\n",
    "b = zeros(6)\n",
    "a[0] = x0\n",
    "b[0] = y0\n",
    "a[1]=Vf[m-1][0]\n",
    "b[1]=Vf[m-1][1]\n",
    "a[2]=Vf[m-1][2]\n",
    "b[2]=Vf[m-1][3]\n",
    "a[3]=Vf[m-1][4]\n",
    "b[3]=Vf[m-1][5]\n",
    "a[4]=Vf[m-1][6]\n",
    "b[4]=Vf[m-1][7]\n",
    "a[5] = x5\n",
    "b[5] = y5\n",
    "\n",
    "\n",
    "plt.xlabel(\"x\")\n",
    "plt.ylabel(\"y\")\n",
    "plt.plot(a, b)"
   ]
  },
  {
   "cell_type": "code",
   "execution_count": null,
   "id": "9f8b5a5e",
   "metadata": {},
   "outputs": [],
   "source": []
  }
 ],
 "metadata": {
  "kernelspec": {
   "display_name": "Python 3 (ipykernel)",
   "language": "python",
   "name": "python3"
  },
  "language_info": {
   "codemirror_mode": {
    "name": "ipython",
    "version": 3
   },
   "file_extension": ".py",
   "mimetype": "text/x-python",
   "name": "python",
   "nbconvert_exporter": "python",
   "pygments_lexer": "ipython3",
   "version": "3.9.7"
  }
 },
 "nbformat": 4,
 "nbformat_minor": 5
}
